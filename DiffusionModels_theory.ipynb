{
 "cells": [
  {
   "cell_type": "code",
   "execution_count": 46,
   "metadata": {},
   "outputs": [],
   "source": [
    "# Import packages\n",
    "import torch\n",
    "from torchvision import datasets,transforms\n",
    "import matplotlib.pyplot as plt\n",
    "%matplotlib inline"
   ]
  },
  {
   "cell_type": "code",
   "execution_count": 47,
   "metadata": {},
   "outputs": [
    {
     "name": "stderr",
     "output_type": "stream",
     "text": [
      "/opt/homebrew/Caskroom/miniforge/base/envs/textscan/lib/python3.11/site-packages/torchvision/datasets/mnist.py:53: UserWarning: train_data has been renamed data\n",
      "  warnings.warn(\"train_data has been renamed data\")\n",
      "/opt/homebrew/Caskroom/miniforge/base/envs/textscan/lib/python3.11/site-packages/torchvision/datasets/mnist.py:43: UserWarning: train_labels has been renamed targets\n",
      "  warnings.warn(\"train_labels has been renamed targets\")\n"
     ]
    },
    {
     "data": {
      "image/png": "[encoded data removed]",
      "text/plain": [
       "<Figure size 640x480 with 1 Axes>"
      ]
     },
     "metadata": {},
     "output_type": "display_data"
    }
   ],
   "source": [
    "# Download MNIST dataset and plot one image\n",
    "\n",
    "# Download the training data\n",
    "trainset = datasets.MNIST('MNIST_data/', download=False, train=True, transform=transforms.ToTensor())\n",
    "\n",
    "# Download the test data\n",
    "testset = datasets.MNIST('MNIST_data/', download=False, train=False, transform=transforms.ToTensor())\n",
    "\n",
    "# Plot one image\n",
    "\n",
    "plt.imshow(trainset.train_data[0].numpy(), cmap='gray')\n",
    "plt.title('%i' % trainset.train_labels[0])\n",
    "plt.show()\n"
   ]
  },
  {
   "cell_type": "code",
   "execution_count": 48,
   "metadata": {},
   "outputs": [],
   "source": [
    "# Import some libraries for implementing the diffusion model\n",
    "from IPython.display import Image\n",
    "import math\n",
    "from inspect import isfunction # to check if a variable is a function\n",
    "from functools import partial # to create a function with some fixed arguments\n",
    "from tqdm.auto import tqdm # to display a progress bar\n",
    "from einops import rearrange # to reshape tensors\n",
    "\n",
    "import torch\n",
    "from torch import nn, einsum \n",
    "import torch.nn.functional as F"
   ]
  },
  {
   "cell_type": "code",
   "execution_count": 49,
   "metadata": {},
   "outputs": [],
   "source": [
    "# Let us write some helper functions\n",
    "\n",
    "# function to check if a function exists\n",
    "def exists(x):\n",
    "    return x is not None\n",
    "\n",
    "# function to check if a variable is a list\n",
    "def default(val,d): \n",
    "    if exists(val):\n",
    "        return val\n",
    "    return d() if isfunction(d) else d # if d is a function, call it, otherwise return it\n",
    "\n",
    "class Residual(nn.Module): # Residual block\n",
    "    def __init__(self,fn): # fn is the function to be applied\n",
    "        super().__init__()\n",
    "        self.fn = fn\n",
    "    \n",
    "    def forward(self, x, *args, **kwargs):\n",
    "        return self.fn(x,*args,**kwargs) + x # add the input to the output of the function\n",
    "    \n",
    "def Upsample(dim): # upsampling image representation function\n",
    "    return nn.ConvTranspose2d(dim,dim,4,2,1) # 2D transposed convolution with stride 2 and padding 1 and kernel size 4\n",
    "\n",
    "def Downsample(dim): # scaling down an image to its lower level representation\n",
    "    return nn.Conv2d(dim,dim,4,2,1) # 2D convolution with stride 2 and padding 1 and kernel size 4\n",
    "\n"
   ]
  },
  {
   "attachments": {},
   "cell_type": "markdown",
   "metadata": {},
   "source": [
    "It is important to note here that the same model weights are shared across the 'timesteps' or iterations of the diffusion process.\n",
    "\n",
    "In order to keep track of the timesteps, the authors of Diffusion model used some form of time embedding. This has been originally done using a sinusoidal positional embedding. Quite frankly, time, position and iteration are used quite freely in literature.\n",
    "\n",
    "What is important to note is that with each forward step in time/position/iteration, noise is either added or removed."
   ]
  },
  {
   "cell_type": "code",
   "execution_count": 50,
   "metadata": {},
   "outputs": [
    {
     "data": {
      "text/plain": [
       "torch.Size([4, 8])"
      ]
     },
     "execution_count": 50,
     "metadata": {},
     "output_type": "execute_result"
    }
   ],
   "source": [
    "# Let us implement this sinusoidal positional encoding function\n",
    "\n",
    "class SinusoidalPositionalEmbeddings(nn.Module):\n",
    "    def __init__(self,dim):\n",
    "        super().__init__()\n",
    "        self.dim = dim\n",
    "        \n",
    "    \n",
    "    def forward(self,time):\n",
    "        device = time.device\n",
    "        half_dim = self.dim // 2\n",
    "        embeddings = math.log(10000) / (half_dim - 1) # apply log to the time dimension\n",
    "        embeddings = torch.exp(torch.arange(half_dim, device = device) * -embeddings) # apply exponential \n",
    "        embeddings = time[:,None] * embeddings[None,:]\n",
    "        embeddings = torch.cat([embeddings.sin(), embeddings.cos()], dim = -1)\n",
    "        return embeddings\n",
    "\n",
    "# Test the above function\n",
    "SinusoidalPositionalEmbeddings(8)(torch.arange(4.0)).shape\n",
    "\n",
    "# This takes a 1D tensor of time and returns a 2D tensor of embeddings of shape (time, dim)\n",
    "\n"
   ]
  },
  {
   "cell_type": "code",
   "execution_count": 51,
   "metadata": {},
   "outputs": [
    {
     "data": {
      "text/plain": [
       "torch.Size([1, 8, 4, 4])"
      ]
     },
     "execution_count": 51,
     "metadata": {},
     "output_type": "execute_result"
    }
   ],
   "source": [
    "# We will now begin implementing the Unet architecture that is native to the Denoising Diffusion Probabilistic Model\n",
    "\n",
    "# We will use both the ResNet and the ConvNext architectures so that a choice can be made later\n",
    "\n",
    "class Block(nn.Module):\n",
    "    def __init__(self,dim,dim_out,groups = 8):\n",
    "        super().__init__()\n",
    "        self.proj = nn.Conv2d(dim,dim_out,3,padding=1)\n",
    "        self.norm = nn.GroupNorm(groups,dim_out) # group norm computes the mean and standard deviation across both batch and channels\n",
    "        self.act  = nn.SELU() # scaled exponential linear unit\n",
    "\n",
    "    def forward(self,x,scale_shift=None):\n",
    "        x = self.proj(x)\n",
    "        x = self.norm(x)\n",
    "\n",
    "        if exists(scale_shift):\n",
    "            scale,shift = scale_shift\n",
    "            x = (scale+1) * x + shift\n",
    "        \n",
    "        x = self.act(x)\n",
    "        return x\n",
    "\n",
    "# Let us test the above function\n",
    "\n",
    "Block(8,8)(torch.randn(1,8,4,4)).shape    \n",
    "\n",
    "# Block returns a tensor of the same size as the input"
   ]
  },
  {
   "cell_type": "code",
   "execution_count": 52,
   "metadata": {},
   "outputs": [
    {
     "data": {
      "text/plain": [
       "torch.Size([1, 8, 4, 4])"
      ]
     },
     "execution_count": 52,
     "metadata": {},
     "output_type": "execute_result"
    }
   ],
   "source": [
    "\n",
    "\n",
    "class ResnetBlock(nn.Module):\n",
    "    \"\"\"https://arxiv.org/abs/1512.03385\"\"\"\n",
    "\n",
    "    def __init__(self, dim, dim_out, *, time_emb_dim = None, groups=8):\n",
    "        super().__init__()\n",
    "        self.mlp = (\n",
    "            nn.Sequential(nn.SiLU,nn.Linear(time_emb_dim, dim_out ))\n",
    "            if exists(time_emb_dim) \n",
    "            else None\n",
    "\n",
    "        )\n",
    "        self.block1 = Block(dim,dim_out,groups=groups)\n",
    "        self.block2 = Block(dim_out,dim_out,groups=groups)\n",
    "        self.res_conv = nn.Conv2d(dim,dim_out,1) if dim != dim_out else nn.Identity() \n",
    "\n",
    "    def forward(self,x,time_emb=None):\n",
    "        h = self.block1(x)\n",
    "\n",
    "        if exists(self.mlp) and exists(time_emb):\n",
    "            time_emb = self.mlp(time_emb)\n",
    "            h = rearrange(time_emb, \"b c -> b c 1 1\") + h\n",
    "        \n",
    "        h = self.block2(h)\n",
    "\n",
    "        return self.res_conv(x) + h\n",
    "\n",
    "# Let us test the above function\n",
    "\n",
    "ResnetBlock(8,8)(torch.randn(1,8,4,4)).shape\n",
    "\n",
    "# ResnetBlock returns a tensor of the same size as the input\n"
   ]
  },
  {
   "cell_type": "code",
   "execution_count": 53,
   "metadata": {},
   "outputs": [],
   "source": [
    "class ConvNextBlock(nn.Module):\n",
    "    \"\"\"https://arxiv.org/abs/2201.03545\"\"\"\n",
    "\n",
    "    def __init__(self, dim, dim_out, *, time_emb_dim=None, mult=2, norm=True):\n",
    "        super().__init__()\n",
    "        self.mlp = (\n",
    "            nn.Sequential(nn.GELU(), nn.Linear(time_emb_dim, dim))\n",
    "            if exists(time_emb_dim)\n",
    "            else None\n",
    "        )\n",
    "\n",
    "        self.ds_conv = nn.Conv2d(dim, dim, 7, padding=3, groups=dim)\n",
    "\n",
    "        self.net = nn.Sequential(\n",
    "            nn.GroupNorm(1, dim) if norm else nn.Identity(),\n",
    "            nn.Conv2d(dim, dim_out * mult, 3, padding=1),\n",
    "            nn.GELU(),\n",
    "            nn.GroupNorm(1, dim_out * mult),\n",
    "            nn.Conv2d(dim_out * mult, dim_out, 3, padding=1),\n",
    "        )\n",
    "\n",
    "        self.res_conv = nn.Conv2d(dim, dim_out, 1) if dim != dim_out else nn.Identity()\n",
    "\n",
    "    def forward(self, x, time_emb=None):\n",
    "        h = self.ds_conv(x)\n",
    "\n",
    "        if exists(self.mlp) and exists(time_emb):\n",
    "            condition = self.mlp(time_emb)\n",
    "            h = h + rearrange(condition, \"b c -> b c 1 1\")\n",
    "\n",
    "        h = self.net(h)\n",
    "        return h + self.res_conv(x)\n"
   ]
  },
  {
   "cell_type": "code",
   "execution_count": 54,
   "metadata": {},
   "outputs": [
    {
     "name": "stdout",
     "output_type": "stream",
     "text": [
      "torch.Size([1, 4, 32, 32]) torch.Size([1, 4, 32, 32])\n"
     ]
    },
    {
     "data": {
      "text/plain": [
       "torch.Size([1, 3, 4, 8])"
      ]
     },
     "execution_count": 54,
     "metadata": {},
     "output_type": "execute_result"
    }
   ],
   "source": [
    "# We will, in the following, implement an attention module of the Vaswani et al. type as well as \n",
    "# the Linear attention module of the Diffusion Probabilistic Model\n",
    "\n",
    "class Attention(nn.Module):\n",
    "    def __init__(self, dim, heads = 4, dim_head = 32):\n",
    "        super().__init__()\n",
    "        self.scale = dim_head**-0.5 # for scaling the attention weights\n",
    "        self.heads = heads\n",
    "        hidden_dim = dim_head * heads\n",
    "        self.to_qkv = nn.Conv2d(dim,hidden_dim * 3, 1, bias=False)\n",
    "        self.to_out = nn.Conv2d(hidden_dim,dim,1)\n",
    "    \n",
    "    def forward(self,x):\n",
    "        b, c, h, w = x.shape\n",
    "        qkv = self.to_qkv(x).chunk(3,dim=1) # split the input into query, key and value\n",
    "        q, k, v = map(\n",
    "            lambda t: rearrange(t, \"b (h c) x y -> b h c (x y)\", h = self.heads), qkv\n",
    "        )\n",
    "        q = q * self.scale # scale the query\n",
    "\n",
    "        print(q.shape, k.shape)\n",
    "\n",
    "        sim = einsum(\"b h d i, b h d j -> b h i j\",q, k)\n",
    "        sim = sim - sim.amax(dim=-1, keepdim=True).detach()\n",
    "        attn = sim.softmax(dim = -1)\n",
    "\n",
    "        out = einsum(\"b h i j, b h d j -> b h d i\",attn, v)\n",
    "        out = rearrange(out, \"b h (x y) d -> b (h d) x y\", x = h, y = w)\n",
    "        return self.to_out(out)\n",
    "\n",
    "# Let us test the above function\n",
    "\n",
    "Attention(3)(torch.randn(1,3,4,8)).shape\n"
   ]
  },
  {
   "cell_type": "code",
   "execution_count": 55,
   "metadata": {},
   "outputs": [],
   "source": [
    "    \n",
    "# Now implement the Linear Attention module\n",
    "\n",
    "class LinearAttention(nn.Module):\n",
    "    def __init__(self,dim,heads=4,dim_heads=32):\n",
    "        super().__init__()\n",
    "        self.scale = dim_heads**-0.5\n",
    "        self.heads = heads\n",
    "        hidden_dim = dim_heads * heads\n",
    "        self.to_qkv = nn.Conv2d(dim, hidden_dim*3, 1, bias=False)\n",
    "        self.to_out = nn.Sequential(nn.Conv2d(hidden_dim,dim,1),\n",
    "                                    nn.GroupNorm(1,dim)\n",
    "                                    )\n",
    "        \n",
    "    def forward(self,x):\n",
    "        b, c, h, w = x.shape\n",
    "        qkv = self.to_qkv(x).chunk(3,dim=1)\n",
    "        q, k, v = map(\n",
    "            lambda t: rearrange(t, \"b (h c) x y -> b h c (x y)\", h = self.heads), qkv\n",
    "        )\n",
    "\n",
    "        q = q.softmax(dim=-2)\n",
    "        k = k.softmax(dim=-1)\n",
    "\n",
    "        q = q * self.scale\n",
    "        context = torch.einsum(\"b h d n, b h e n -> b h d e\", k, v)\n",
    "\n",
    "        out = torch.einsum(\"b h d e, b h d n -> b h e n\", context, q)\n",
    "        out = rearrange(out,\"b h c (x y)-> b (h c) x y\", h = self.heads, x = h, y = w)\n",
    "        return self.to_out(out)\n"
   ]
  },
  {
   "cell_type": "code",
   "execution_count": 56,
   "metadata": {},
   "outputs": [],
   "source": [
    "class ConvNextBlock(nn.Module):\n",
    "    \"\"\"https://arxiv.org/abs/2201.03545\"\"\"\n",
    "\n",
    "    def __init__(self, dim, dim_out, *, time_emb_dim=None, mult=2, norm=True):\n",
    "        super().__init__()\n",
    "        self.mlp = (\n",
    "            nn.Sequential(nn.GELU(), nn.Linear(time_emb_dim, dim))\n",
    "            if exists(time_emb_dim)\n",
    "            else None\n",
    "        )\n",
    "\n",
    "        self.ds_conv = nn.Conv2d(dim, dim, 7, padding=3, groups=dim)\n",
    "\n",
    "        self.net = nn.Sequential(\n",
    "            nn.GroupNorm(1, dim) if norm else nn.Identity(),\n",
    "            nn.Conv2d(dim, dim_out * mult, 3, padding=1),\n",
    "            nn.GELU(),\n",
    "            nn.GroupNorm(1, dim_out * mult),\n",
    "            nn.Conv2d(dim_out * mult, dim_out, 3, padding=1),\n",
    "        )\n",
    "\n",
    "        self.res_conv = nn.Conv2d(dim, dim_out, 1) if dim != dim_out else nn.Identity()\n",
    "\n",
    "    def forward(self, x, time_emb=None):\n",
    "        h = self.ds_conv(x)\n",
    "\n",
    "        if exists(self.mlp) and exists(time_emb):\n",
    "            condition = self.mlp(time_emb)\n",
    "            h = h + rearrange(condition, \"b c -> b c 1 1\")\n",
    "\n",
    "        h = self.net(h)\n",
    "        return h + self.res_conv(x)"
   ]
  },
  {
   "cell_type": "code",
   "execution_count": 57,
   "metadata": {},
   "outputs": [],
   "source": [
    "\n",
    "# In DDPM, a groupnorm is used after the attention/convolutional layers of the U-Net.\n",
    "\n",
    "# We can create a prenorm layer to add a normalization before the attention operation\n",
    "\n",
    "class PreNorm(nn.Module):\n",
    "    def __init__(self,dim,fn):\n",
    "        super().__init__()\n",
    "        self.norm = nn.GroupNorm(1,dim)\n",
    "        self.fn = fn\n",
    "    \n",
    "    def forward(self,x):\n",
    "        return self.fn(self.norm(x))\n"
   ]
  },
  {
   "attachments": {},
   "cell_type": "markdown",
   "metadata": {},
   "source": [
    "We have now constructed all the modules we need for assembling the UNet model. \n",
    "\n",
    "The idea here is to take a batch of images of dimension (batch_size, num_channels, height, width) and a batch of noise levels of size (batch)size, 1), as input and return a tensor of shape (batch_size, num_channels, height, width)\n",
    "\n",
    "Here, the network takes the images and the noise levels, and output the noise added to the input\n",
    "\n",
    "The network goes as follows:\n",
    "1. a convolution is first applied to the batch of images, and position embeddings are computed for each noise level.\n",
    "2. a sequence of downsampling steps are performed, where:\n",
    "    each downsampling contains: two resnt/convnext blocks, group norm, attention, residual connection, and a downsampling operation.\n",
    "3. in between the downsampling, a ResNet or ConvNext block are added, and attention is added again.\n",
    "4. Following the downsampling, the upsampling steps are performed. This contains:\n",
    "    two resnet/convnext blocks, group norm, attention, residual connection, and upsample operation.\n",
    "5. finally, a resnet/convnext block followed by a convolution is added."
   ]
  },
  {
   "cell_type": "code",
   "execution_count": 58,
   "metadata": {},
   "outputs": [],
   "source": [
    "nn.Conv2d(3, 32//3 *2, 7, padding=3)\n",
    "\n",
    "image_size = 32\n",
    "dim=image_size\n",
    "init_dim = dim//3 *2#default(None, dim//3 *2)\n",
    "channels=3\n",
    "dim_mults=(1, 2, 4,)\n",
    "\n",
    "dims = [init_dim, *map(lambda m: dim * m, dim_mults)]\n",
    "\n",
    "in_out = list(zip(dims[:-1],dims[1:]))\n",
    "# Pretend we use convnext\n",
    "convnext_mult = 2\n",
    "block_klass = partial(ConvNextBlock, mult = convnext_mult) # basically it is ConvNextBlock, but with mult argument frozen to 2\n",
    "\n",
    "# Pretend with time emb is tru\n",
    "\n",
    "time_dim = dim * 4\n",
    "time_mlp = nn.Sequential(\n",
    "    SinusoidalPositionalEmbeddings(dim),\n",
    "    nn.Linear(dim,time_dim),\n",
    "    nn.GELU(),\n",
    "    nn.Linear(time_dim,time_dim),\n",
    ")\n",
    "\n",
    "batch_size = 128\n",
    "timesteps  =200\n",
    "t = torch.randint(0, timesteps, (batch_size,))\n",
    "time_emb = time_mlp(t) # Found out the issue. I had forgotten to uncomment last two lines in SinusoidalPositionalEmbeddings"
   ]
  },
  {
   "cell_type": "code",
   "execution_count": 59,
   "metadata": {},
   "outputs": [],
   "source": [
    "\n",
    "# Let us now implement the U-Net architecture\n",
    "\n",
    "class UNet(nn.Module):\n",
    "    def __init__(self, dim, init_dim = None, out_dim = None, dim_mults = (1,2,4,8), channels=3, with_time_emb = True,\n",
    "                 resnet_block_groups = 8, use_convnext=True, convnext_mult = 2):\n",
    "        \n",
    "        super().__init__()\n",
    "        self.channels = channels # 3 channels\n",
    "        init_dim = default(init_dim, dim//3 *2) # init_dim is None. So default value is dim//3 *2, which is 32//3 *2 = 20 for image size 32\n",
    "        self.init_conv = nn.Conv2d(channels, init_dim, 7, padding=3) # 3 input channels, 20 output channels, 7x7 kernel, padding = 3\n",
    "        dims = [init_dim, *map(lambda m: dim * m, dim_mults)] # [20, 32*1, 32*2, 32*4] = [20, 32, 64, 128] for dim_mults = (1,2,4)\n",
    "        in_out = list(zip(dims[:-1],dims[1:])) # groups dims to [(20, 32), (32, 64), (64, 128)], representing in and out sizes of each block\n",
    "\n",
    "        if use_convnext:\n",
    "            block_klass = partial(ConvNextBlock, mult = convnext_mult) # Freeze mult to 2 for ConvNextBlock\n",
    "        else:\n",
    "            block_klass = partial(ResnetBlock,groups=resnet_block_groups)\n",
    "        \n",
    "        # time embedding\n",
    "        if with_time_emb:\n",
    "            time_dim = dim * 4 # for dim 32, 32 * 4 = 128\n",
    "            self.time_mlp = nn.Sequential(\n",
    "                SinusoidalPositionalEmbeddings(dim), # dim = 32, so it returns a tensor of size 1\n",
    "                nn.Linear(dim,time_dim),\n",
    "                nn.GELU(),\n",
    "                nn.Linear(time_dim,time_dim),\n",
    "            )\n",
    "        else:\n",
    "            time_dim = None\n",
    "            self.time_mlp = None\n",
    "        \n",
    "        # layers\n",
    "        self.downs = nn.ModuleList([])\n",
    "        self.ups = nn.ModuleList([])\n",
    "        num_resolution = len(in_out)\n",
    "\n",
    "        for ind, (dim_in,dim_out) in enumerate(in_out):\n",
    "            is_last = ind >= (num_resolution-1)\n",
    "            self.downs.append(\n",
    "                nn.ModuleList(\n",
    "                    [\n",
    "                        block_klass(dim_in,dim_out, time_emb_dim = time_dim),\n",
    "                        block_klass(dim_out,dim_out, time_emb_dim = time_dim),\n",
    "                        Residual(PreNorm(dim_out, LinearAttention(dim_out))),\n",
    "                        Downsample(dim_out) if not is_last else nn.Identity()\n",
    "\n",
    "                    ]\n",
    "                )\n",
    "\n",
    "            )\n",
    "        \n",
    "        mid_dim = dims[-1]\n",
    "        self.mid_block1 = block_klass(mid_dim,mid_dim, time_emb_dim = time_dim)\n",
    "        self.mid_attn   = Residual(PreNorm(mid_dim, LinearAttention(mid_dim)))\n",
    "        self.mid_block2 = block_klass(mid_dim,mid_dim, time_emb_dim = time_dim)\n",
    "\n",
    "        for ind, (dim_in,dim_out) in enumerate(reversed(in_out[1:])):\n",
    "            is_last = ind>=(num_resolution-1)\n",
    "\n",
    "            self.ups.append(\n",
    "                nn.ModuleList(\n",
    "                    [\n",
    "                        block_klass(dim_out*2,dim_in, time_emb_dim = time_dim),\n",
    "                        block_klass(dim_in,dim_in, time_emb_dim = time_dim),\n",
    "                        Residual(PreNorm(dim_in, LinearAttention(dim_in))),\n",
    "                        Upsample(dim_in) if not is_last else nn.Identity(),\n",
    "                    ]\n",
    "                )\n",
    "            )\n",
    "        \n",
    "        out_dim = default(out_dim, channels)\n",
    "        self.final_conv = nn.Sequential(block_klass(dim,dim), nn.Conv2d(dim, out_dim, 1))\n",
    "\n",
    "    def forward(self,x, time):\n",
    "\n",
    "        x = self.init_conv(x)\n",
    "\n",
    "        t = self.time_mlp(time) if exists (self.time_mlp) else None\n",
    "\n",
    "        h = []\n",
    "\n",
    "        # downsample\n",
    "        for block1, block2, attn, downsample in self.downs:\n",
    "            x = block1(x, t)\n",
    "            x = block2(x, t)\n",
    "            x = attn(x)\n",
    "            h.append(x)\n",
    "            x = downsample(x)\n",
    "\n",
    "        # middle\n",
    "        x = self.mid_block1(x, t)\n",
    "        x = self.mid_attn(x)\n",
    "        x = self.mid_block2(x, t)\n",
    "\n",
    "        # upsample\n",
    "        for block1, block2, attn, upsample in self.ups:\n",
    "            x = torch.cat((x,h.pop()), dim=1)\n",
    "            x = block1(x, t)\n",
    "            x = block2(x, t)\n",
    "            x = attn(x)\n",
    "            x = upsample(x)\n",
    "        \n",
    "        return self.final_conv(x)\n",
    "\n",
    "# Note: by default, the noise predictor uses ConvNeXT blocks \n",
    "# (as use_convnext is set to True) and position embeddings are added (as with_time_emb is set to True).\n",
    "\n"
   ]
  },
  {
   "attachments": {},
   "cell_type": "markdown",
   "metadata": {},
   "source": [
    "We will now also add the forward diffusion process where you add noise in timesteps t. This is done in a number of schedule types, all of which will be implemented in the following."
   ]
  },
  {
   "cell_type": "code",
   "execution_count": 60,
   "metadata": {},
   "outputs": [],
   "source": [
    "# linear beta scheduler\n",
    "def linear_beta_schedule(timesteps):\n",
    "    beta_start = 0.0001\n",
    "    beta_end = 0.02\n",
    "    return torch.linspace(beta_start, beta_end, timesteps)\n",
    "\n",
    "# quadradic beta scheduler\n",
    "def quadratic_beta_schedule(timesteps):\n",
    "    beta_start = 0.0001\n",
    "    beta_end = 0.02\n",
    "    return torch.sqrt(torch.linspace(beta_start**0.5, beta_end**0.5, timesteps)) ** 2\n",
    "\n",
    "# sigmoid beta scheduler\n",
    "def sigmoid_beta_schedule(timesteps):\n",
    "    beta_start = 0.0001\n",
    "    beta_end = 0.02\n",
    "    return torch.sigmoid(torch.linspace(-5, 5, timesteps)) * (beta_end - beta_start) + beta_start\n",
    "\n",
    "# cosine beta scheduler, from https://arxiv.org/abs/2102.09672\n",
    "def cosine_beta_schedule(timesteps, s=0.008):\n",
    "    steps = timesteps + 1\n",
    "    x = torch.linspace(0,timesteps,steps)\n",
    "    alphas_cumprod = torch.cos(((x + timesteps) + s)/(1 + s) * torch.pi * 0.5) ** 2\n",
    "    alphas_cumprod = alphas_cumprod / alphas_cumprod[0]\n",
    "    betas = 1 - (alphas_cumprod[1:] / alphas_cumprod[:-1])\n",
    "    return torch.clip(betas, 0.0001, 0.999)\n",
    "\n",
    "\n"
   ]
  },
  {
   "cell_type": "code",
   "execution_count": 61,
   "metadata": {},
   "outputs": [],
   "source": [
    "# Let us take the forward diffusion out for a spin\n",
    "timesteps = 200\n",
    "betas = linear_beta_schedule(timesteps = timesteps)\n",
    "\n",
    "# define alphas\n",
    "alphas = 1. - betas\n",
    "alphas_cumprod = torch.cumprod(alphas, dim=0)\n",
    "alphas_cumprod_prev = F.pad(alphas_cumprod[:-1],(1,0),value=1.)\n",
    "sqrt_recip_alphas = torch.sqrt(1.0 / alphas)\n",
    "\n",
    "# Calculations for diffusion q(x_t | x_t-1) and others\n",
    "sqrt_alphas_cumprod = torch.sqrt(alphas_cumprod)\n",
    "sqrt_one_minus_alphas_cumprod = torch.sqrt(1 - alphas_cumprod)\n",
    "\n",
    "# calculations for posterior q(x_t-1 | x_t, x_0)\n",
    "posteriori_variance = betas * (1 - alphas_cumprod_prev) / (1. - alphas_cumprod)\n",
    "\n",
    "def extract(a,t,x_shape):\n",
    "    batch_size = t.shape[0]\n",
    "    out = a.gather(-1,t.cpu())\n",
    "    return out.reshape(batch_size, *((1,)*(len(x_shape) -1))).to(t.device)\n",
    "\n"
   ]
  },
  {
   "cell_type": "code",
   "execution_count": 62,
   "metadata": {},
   "outputs": [
    {
     "data": {
      "image/png": "[encoded data removed]",
      "text/plain": [
       "<PIL.Image.Image image mode=RGB size=32x32 at 0x15804A710>"
      ]
     },
     "execution_count": 62,
     "metadata": {},
     "output_type": "execute_result"
    }
   ],
   "source": [
    "# now let us apply it\n",
    "from PIL import Image\n",
    "from torchvision.transforms import Compose, ToTensor, Lambda, ToPILImage, CenterCrop, Resize\n",
    "\n",
    "image = trainset.train_data[0].numpy()\n",
    "\n",
    "image_size = 32\n",
    "transform = Compose([\n",
    "    transforms.ToPILImage(),\n",
    "    Resize(image_size),\n",
    "    ToTensor(),\n",
    "    Lambda(lambda t: (t * 2 )- 1),\n",
    "])\n",
    "\n",
    "x_start = transform(image).unsqueeze(0)\n",
    "\n",
    "import numpy as np\n",
    "\n",
    "reverse_transform = Compose([\n",
    "    Lambda(lambda t: (t+1) / 2),\n",
    "    Lambda(lambda t: t.permute(1,2,0)),\n",
    "    Lambda(lambda t: t*255.),\n",
    "    Lambda(lambda t: t.numpy().astype(np.uint8)),\n",
    "    ToPILImage(),\n",
    "])\n",
    "\n",
    "reverse_transform( x_start.repeat(1, 3, 1, 1).squeeze(0))"
   ]
  },
  {
   "cell_type": "code",
   "execution_count": 63,
   "metadata": {},
   "outputs": [],
   "source": [
    "# Let us now implement the forward diffusion model\n",
    "\n",
    "def q_sample(x_start, t, noise=None):\n",
    "    if noise is None:\n",
    "        noise = torch.randn_like(x_start)\n",
    "\n",
    "    sqrt_alphas_cumprod_t = extract(sqrt_alphas_cumprod, t, x_start.shape)\n",
    "    sqrt_one_minus_alphas_cumprod_t = extract(\n",
    "        sqrt_one_minus_alphas_cumprod, t, x_start.shape\n",
    "    )\n",
    "\n",
    "    return sqrt_alphas_cumprod_t * x_start + sqrt_one_minus_alphas_cumprod_t * noise\n",
    "def get_noisy_image(x_start,t):\n",
    "    x_noisy = q_sample(x_start, t=t)\n",
    "    noisy_image = reverse_transform(x_noisy.repeat(1, 3, 1, 1).squeeze())\n",
    "\n",
    "    return noisy_image\n"
   ]
  },
  {
   "cell_type": "code",
   "execution_count": 64,
   "metadata": {},
   "outputs": [
    {
     "data": {
      "image/png": "[encoded data removed]",
      "text/plain": [
       "<PIL.Image.Image image mode=RGB size=32x32 at 0x166C765D0>"
      ]
     },
     "execution_count": 64,
     "metadata": {},
     "output_type": "execute_result"
    }
   ],
   "source": [
    "# test the noise addition\n",
    "t = torch.tensor([10])\n",
    "get_noisy_image(x_start, t)"
   ]
  },
  {
   "cell_type": "code",
   "execution_count": 65,
   "metadata": {},
   "outputs": [
    {
     "data": {
      "image/png": "[encoded data removed]",
      "text/plain": [
       "<Figure size 2000x2000 with 5 Axes>"
      ]
     },
     "metadata": {},
     "output_type": "display_data"
    }
   ],
   "source": [
    "# visualize it for a sequence of timesteps\n",
    "\n",
    "torch.manual_seed(0)\n",
    "\n",
    "def plot(imgs, with_orig=False, row_title=None, **imshow_kwargs):\n",
    "    if not isinstance(imgs[0], list):\n",
    "        # Make a 2d grid even if there's just 1 row\n",
    "        imgs = [imgs]\n",
    "\n",
    "    num_rows = len(imgs)\n",
    "    num_cols = len(imgs[0]) + with_orig\n",
    "    fig, axs = plt.subplots(figsize=(20,20), nrows=num_rows, ncols=num_cols, squeeze=False)\n",
    "    for row_idx, row in enumerate(imgs):\n",
    "        row = [image] + row if with_orig else row\n",
    "        for col_idx, img in enumerate(row):\n",
    "            ax = axs[row_idx, col_idx]\n",
    "            ax.imshow(np.asarray(img), **imshow_kwargs)\n",
    "            ax.set(xticklabels=[], yticklabels=[], xticks=[], yticks=[])\n",
    "\n",
    "    if with_orig:\n",
    "        axs[0, 0].set(title='Original image')\n",
    "        axs[0, 0].title.set_size(8)\n",
    "    if row_title is not None:\n",
    "        for row_idx in range(num_rows):\n",
    "            axs[row_idx, 0].set(ylabel=row_title[row_idx])\n",
    "\n",
    "    plt.tight_layout()\n",
    "\n",
    "plot([get_noisy_image(x_start, torch.tensor([t])) for t in [0, 50, 100, 150, 199]])"
   ]
  },
  {
   "cell_type": "code",
   "execution_count": 66,
   "metadata": {},
   "outputs": [],
   "source": [
    "# Thus, we can now move on to defining our loss function. \n",
    "# The denoise_model will be our U-Net defined above. We’ll employ the Huber loss between the true and the predicted noise.\n",
    "\n",
    "def p_losses(denoise_model, x_start, t, noise=None, loss_type=\"l1\"):\n",
    "    if noise is None:\n",
    "        noise = torch.randn_like(x_start)\n",
    "\n",
    "    x_noisy = q_sample(x_start=x_start, t=t, noise=noise)\n",
    "    predicted_noise = denoise_model(x_noisy, t)\n",
    "\n",
    "    if loss_type == 'l1':\n",
    "        loss = F.l1_loss(noise, predicted_noise)\n",
    "    elif loss_type == 'l2':\n",
    "        loss = F.mse_loss(noise, predicted_noise)\n",
    "    elif loss_type == \"huber\":\n",
    "        loss = F.smooth_l1_loss(noise, predicted_noise)\n",
    "    else:\n",
    "        raise NotImplementedError()\n",
    "\n",
    "    return loss"
   ]
  },
  {
   "cell_type": "code",
   "execution_count": 67,
   "metadata": {},
   "outputs": [
    {
     "name": "stderr",
     "output_type": "stream",
     "text": [
      "Found cached dataset fashion_mnist (/Users/swarajnanda/.cache/huggingface/datasets/fashion_mnist/fashion_mnist/1.0.0/8d6c32399aa01613d96e2cbc9b13638f359ef62bb33612b077b4c247f6ef99c1)\n"
     ]
    },
    {
     "data": {
      "application/vnd.jupyter.widget-view+json": {
       "model_id": "eebef8a321cb4dac97cd3b1bcb289fa8",
       "version_major": 2,
       "version_minor": 0
      },
      "text/plain": [
       "  0%|          | 0/2 [00:00<?, ?it/s]"
      ]
     },
     "metadata": {},
     "output_type": "display_data"
    }
   ],
   "source": [
    "from datasets import load_dataset\n",
    "\n",
    "# load dataset from the hub\n",
    "dataset = load_dataset(\"fashion_mnist\")\n",
    "image_size = 28\n",
    "channels = 1\n",
    "batch_size = 128"
   ]
  },
  {
   "cell_type": "code",
   "execution_count": 68,
   "metadata": {},
   "outputs": [],
   "source": [
    "from torchvision import transforms\n",
    "from torch.utils.data import DataLoader\n",
    "\n",
    "# define image transformations (e.g. using torchvision)\n",
    "transform = Compose([\n",
    "            transforms.RandomHorizontalFlip(),\n",
    "            transforms.ToTensor(),\n",
    "            transforms.Lambda(lambda t: (t * 2) - 1)\n",
    "])\n",
    "\n",
    "# define function\n",
    "def transforms(examples):\n",
    "   examples[\"pixel_values\"] = [transform(image.convert(\"L\")) for image in examples[\"image\"]]\n",
    "   del examples[\"image\"]\n",
    "\n",
    "   return examples\n",
    "\n",
    "transformed_dataset = dataset.with_transform(transforms).remove_columns(\"label\")\n",
    "\n",
    "# create dataloader\n",
    "dataloader = DataLoader(transformed_dataset[\"train\"], batch_size=batch_size, shuffle=True)\n"
   ]
  },
  {
   "cell_type": "code",
   "execution_count": 69,
   "metadata": {},
   "outputs": [
    {
     "name": "stdout",
     "output_type": "stream",
     "text": [
      "dict_keys(['pixel_values'])\n"
     ]
    }
   ],
   "source": [
    "batch = next(iter(dataloader))\n",
    "print(batch.keys())"
   ]
  },
  {
   "attachments": {},
   "cell_type": "markdown",
   "metadata": {},
   "source": [
    "Sampling During Training\n",
    "The paper also talks about sampling from the model during training in order to track progress.\n",
    "Ideally, generating new images from a diffusion model happens by reversing the diffusion process:\n",
    "    We start from T, where we sample pure noise from a Gaussian distribution\n",
    "\n",
    "    Then use our neural network to gradually de-noise it using the conditional probability it has learned, continuing until we end up at time step t = 0.\n",
    "    \n",
    "    We can derive a slightly less de-noised image x(t−1) by plugging in the re-parametrization of the mean, using our noise predictor.\n",
    "    \n",
    "    Remember that the variance is known ahead of time.\n",
    "\n",
    "After all of this, ideally, we end up with an image that looks like it came from the real data distribution.\n",
    "Lets look at the code for that below:"
   ]
  },
  {
   "cell_type": "code",
   "execution_count": 70,
   "metadata": {},
   "outputs": [],
   "source": [
    "@torch.no_grad()\n",
    "def p_sample(model, x, t, t_index):\n",
    "    betas_t = extract(betas, t, x.shape)\n",
    "    sqrt_one_minus_alphas_cumprod_t = extract(\n",
    "        sqrt_one_minus_alphas_cumprod, t, x.shape\n",
    "    )\n",
    "    sqrt_recip_alphas_t = extract(sqrt_recip_alphas, t, x.shape)\n",
    "    \n",
    "    # Equation 11 in the paper\n",
    "    # Use our model (noise predictor) to predict the mean\n",
    "    model_mean = sqrt_recip_alphas_t * (\n",
    "        x - betas_t * model(x, t) / sqrt_one_minus_alphas_cumprod_t\n",
    "    )\n",
    "\n",
    "    if t_index == 0:\n",
    "        return model_mean\n",
    "    else:\n",
    "        posterior_variance_t = extract(posteriori_variance, t, x.shape)\n",
    "        noise = torch.randn_like(x)\n",
    "        # Algorithm 2 line 4:\n",
    "        return model_mean + torch.sqrt(posterior_variance_t) * noise \n",
    "\n",
    "# Algorithm 2 (including returning all images)\n",
    "@torch.no_grad()\n",
    "def p_sample_loop(model, shape):\n",
    "    device = next(model.parameters()).device\n",
    "\n",
    "    b = shape[0]\n",
    "    # start from pure noise (for each example in the batch)\n",
    "    img = torch.randn(shape, device=device)\n",
    "    imgs = []\n",
    "\n",
    "    for i in tqdm(reversed(range(0, timesteps)), desc='sampling loop time step', total=timesteps):\n",
    "        img = p_sample(model, img, torch.full((b,), i, device=device, dtype=torch.long), i)\n",
    "        imgs.append(img.cpu().numpy())\n",
    "    return imgs\n",
    "\n",
    "@torch.no_grad()\n",
    "def sample(model, image_size, batch_size=16, channels=3):\n",
    "    return p_sample_loop(model, shape=(batch_size, channels, image_size, image_size))"
   ]
  },
  {
   "attachments": {},
   "cell_type": "markdown",
   "metadata": {},
   "source": [
    "Now, lets get to some training! We will train the model via PyTorch and occasionally save a few image samples using the sample function from above."
   ]
  },
  {
   "cell_type": "code",
   "execution_count": 71,
   "metadata": {},
   "outputs": [],
   "source": [
    "from pathlib import Path\n",
    "\n",
    "def num_to_groups(num, divisor):\n",
    "    groups = num // divisor\n",
    "    remainder = num % divisor\n",
    "    arr = [divisor] * groups\n",
    "    if remainder > 0:\n",
    "        arr.append(remainder)\n",
    "    return arr\n",
    "\n",
    "results_folder = Path(\"./results\")\n",
    "results_folder.mkdir(exist_ok = True)\n",
    "save_and_sample_every = 1000"
   ]
  },
  {
   "cell_type": "code",
   "execution_count": 72,
   "metadata": {},
   "outputs": [
    {
     "name": "stdout",
     "output_type": "stream",
     "text": [
      "Number of parameters: 2996539\n"
     ]
    }
   ],
   "source": [
    "from torch.optim import Adam\n",
    "\n",
    "device = \"mps\" #if torch.cuda.is_available() else \"cpu\"\n",
    "\n",
    "model = UNet(\n",
    "    dim=image_size,\n",
    "    channels=channels,\n",
    "    dim_mults=(1, 2, 4,)\n",
    ")\n",
    "model.to(device)\n",
    "\n",
    "optimizer = Adam(model.parameters(), lr=1e-3)\n",
    "\n",
    "# find number of parameters in model\n",
    "num_params = sum(p.numel() for p in model.parameters() if p.requires_grad)\n",
    "print(f\"Number of parameters: {num_params}\")"
   ]
  },
  {
   "cell_type": "code",
   "execution_count": 73,
   "metadata": {},
   "outputs": [
    {
     "name": "stdout",
     "output_type": "stream",
     "text": [
      "Loss: 0.4693230390548706\n"
     ]
    },
    {
     "ename": "NotImplementedError",
     "evalue": "The operator 'aten::native_group_norm_backward' is not currently implemented for the MPS device. If you want this op to be added in priority during the prototype phase of this feature, please comment on https://github.com/pytorch/pytorch/issues/77764. As a temporary fix, you can set the environment variable `PYTORCH_ENABLE_MPS_FALLBACK=1` to use the CPU as a fallback for this op. WARNING: this will be slower than running natively on MPS.",
     "output_type": "error",
     "traceback": [
      "\u001b[0;31m---------------------------------------------------------------------------\u001b[0m",
      "\u001b[0;31mNotImplementedError\u001b[0m                       Traceback (most recent call last)",
      "Cell \u001b[0;32mIn[73], line 22\u001b[0m\n\u001b[1;32m     19\u001b[0m \u001b[39mif\u001b[39;00m step \u001b[39m%\u001b[39m \u001b[39m100\u001b[39m \u001b[39m==\u001b[39m \u001b[39m0\u001b[39m:\n\u001b[1;32m     20\u001b[0m   \u001b[39mprint\u001b[39m(\u001b[39m\"\u001b[39m\u001b[39mLoss:\u001b[39m\u001b[39m\"\u001b[39m, loss\u001b[39m.\u001b[39mitem())\n\u001b[0;32m---> 22\u001b[0m loss\u001b[39m.\u001b[39;49mbackward()\n\u001b[1;32m     23\u001b[0m optimizer\u001b[39m.\u001b[39mstep()\n\u001b[1;32m     25\u001b[0m \u001b[39m# save generated images\u001b[39;00m\n",
      "File \u001b[0;32m/opt/homebrew/Caskroom/miniforge/base/envs/textscan/lib/python3.11/site-packages/torch/_tensor.py:487\u001b[0m, in \u001b[0;36mTensor.backward\u001b[0;34m(self, gradient, retain_graph, create_graph, inputs)\u001b[0m\n\u001b[1;32m    477\u001b[0m \u001b[39mif\u001b[39;00m has_torch_function_unary(\u001b[39mself\u001b[39m):\n\u001b[1;32m    478\u001b[0m     \u001b[39mreturn\u001b[39;00m handle_torch_function(\n\u001b[1;32m    479\u001b[0m         Tensor\u001b[39m.\u001b[39mbackward,\n\u001b[1;32m    480\u001b[0m         (\u001b[39mself\u001b[39m,),\n\u001b[0;32m   (...)\u001b[0m\n\u001b[1;32m    485\u001b[0m         inputs\u001b[39m=\u001b[39minputs,\n\u001b[1;32m    486\u001b[0m     )\n\u001b[0;32m--> 487\u001b[0m torch\u001b[39m.\u001b[39;49mautograd\u001b[39m.\u001b[39;49mbackward(\n\u001b[1;32m    488\u001b[0m     \u001b[39mself\u001b[39;49m, gradient, retain_graph, create_graph, inputs\u001b[39m=\u001b[39;49minputs\n\u001b[1;32m    489\u001b[0m )\n",
      "File \u001b[0;32m/opt/homebrew/Caskroom/miniforge/base/envs/textscan/lib/python3.11/site-packages/torch/autograd/__init__.py:197\u001b[0m, in \u001b[0;36mbackward\u001b[0;34m(tensors, grad_tensors, retain_graph, create_graph, grad_variables, inputs)\u001b[0m\n\u001b[1;32m    192\u001b[0m     retain_graph \u001b[39m=\u001b[39m create_graph\n\u001b[1;32m    194\u001b[0m \u001b[39m# The reason we repeat same the comment below is that\u001b[39;00m\n\u001b[1;32m    195\u001b[0m \u001b[39m# some Python versions print out the first line of a multi-line function\u001b[39;00m\n\u001b[1;32m    196\u001b[0m \u001b[39m# calls in the traceback and some print out the last line\u001b[39;00m\n\u001b[0;32m--> 197\u001b[0m Variable\u001b[39m.\u001b[39;49m_execution_engine\u001b[39m.\u001b[39;49mrun_backward(  \u001b[39m# Calls into the C++ engine to run the backward pass\u001b[39;49;00m\n\u001b[1;32m    198\u001b[0m     tensors, grad_tensors_, retain_graph, create_graph, inputs,\n\u001b[1;32m    199\u001b[0m     allow_unreachable\u001b[39m=\u001b[39;49m\u001b[39mTrue\u001b[39;49;00m, accumulate_grad\u001b[39m=\u001b[39;49m\u001b[39mTrue\u001b[39;49;00m)\n",
      "\u001b[0;31mNotImplementedError\u001b[0m: The operator 'aten::native_group_norm_backward' is not currently implemented for the MPS device. If you want this op to be added in priority during the prototype phase of this feature, please comment on https://github.com/pytorch/pytorch/issues/77764. As a temporary fix, you can set the environment variable `PYTORCH_ENABLE_MPS_FALLBACK=1` to use the CPU as a fallback for this op. WARNING: this will be slower than running natively on MPS."
     ]
    }
   ],
   "source": [
    "# Train the model\n",
    "\n",
    "from torchvision.utils import save_image\n",
    "\n",
    "epochs = 5\n",
    "\n",
    "for epoch in range(epochs):\n",
    "    for step, batch in enumerate(dataloader):\n",
    "      optimizer.zero_grad()\n",
    "\n",
    "      batch_size = batch[\"pixel_values\"].shape[0]\n",
    "      batch = batch[\"pixel_values\"].to(device)\n",
    "\n",
    "      # Algorithm 1 line 3: sample t uniformally for every example in the batch\n",
    "      t = torch.randint(0, timesteps, (batch_size,), device=device).long()\n",
    "\n",
    "      loss = p_losses(model, batch, t, loss_type=\"huber\")\n",
    "\n",
    "      if step % 100 == 0:\n",
    "        print(\"Loss:\", loss.item())\n",
    "\n",
    "      loss.backward()\n",
    "      optimizer.step()\n",
    "\n",
    "      # save generated images\n",
    "      if step != 0 and step % save_and_sample_every == 0:\n",
    "        milestone = step // save_and_sample_every\n",
    "        batches = num_to_groups(4, batch_size)\n",
    "        all_images_list = list(map(lambda n: sample(model, batch_size=n, channels=channels), batches))\n",
    "        all_images = torch.cat(all_images_list, dim=0)\n",
    "        all_images = (all_images + 1) * 0.5\n",
    "        save_image(all_images, str(results_folder / f'sample-{milestone}.png'), nrow = 6)\n",
    "\n"
   ]
  }
 ],
 "metadata": {
  "kernelspec": {
   "display_name": "textscan",
   "language": "python",
   "name": "python3"
  },
  "language_info": {
   "codemirror_mode": {
    "name": "ipython",
    "version": 3
   },
   "file_extension": ".py",
   "mimetype": "text/x-python",
   "name": "python",
   "nbconvert_exporter": "python",
   "pygments_lexer": "ipython3",
   "version": "3.11.0"
  },
  "orig_nbformat": 4,
  "vscode": {
   "interpreter": {
    "hash": "d98cbb787251fac8b09d58c88d44135973ceca7df75589457d3db0159f5eed1c"
   }
  }
 },
 "nbformat": 4,
 "nbformat_minor": 2
}
